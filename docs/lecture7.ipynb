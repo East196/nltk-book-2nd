{
 "cells": [
  {
   "cell_type": "markdown",
   "metadata": {},
   "source": [
    "# 7. 从文本提取信息\n",
    "\n",
    "## 待回答的问题？\n",
    "1. 提取结构化数据\n",
    "\n",
    "2. 识别实体与关系\n",
    "\n",
    "3. 合适的语料库\n"
   ]
  },
  {
   "cell_type": "markdown",
   "metadata": {},
   "source": [
    "## 7.1 信息提取\n",
    "分句 - 分词 - 词性标注"
   ]
  },
  {
   "cell_type": "code",
   "execution_count": 3,
   "metadata": {},
   "outputs": [],
   "source": [
    "import nltk\n",
    "\n",
    "\n",
    "def ie_preprocess(document):\n",
    "    sentences = nltk.sent_tokenize(document)  # 分句             \n",
    "    sentences = [nltk.word_tokenize(sent) for sent in sentences]  # 分词\n",
    "    sentences = [nltk.pos_tag(sent) for sent in sentences]  # 词性标注\n",
    "    return sentences"
   ]
  },
  {
   "cell_type": "markdown",
   "metadata": {},
   "source": [
    "## 7.2 分块"
   ]
  },
  {
   "cell_type": "code",
   "execution_count": null,
   "metadata": {},
   "outputs": [],
   "source": [
    ""
   ]
  }
 ],
 "metadata": {},
 "nbformat": 4,
 "nbformat_minor": 0
}