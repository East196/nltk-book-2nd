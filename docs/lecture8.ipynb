{
 "cells": [
  {
   "cell_type": "markdown",
   "metadata": {},
   "source": [
    "# 8. 分析句子结构\n",
    "句子有无限种可能,而我们只能写有限种程序来分析他\n",
    "\n",
    "吾生也有涯，而知也无涯。以有涯随无涯，殆己。"
   ]
  },
  {
   "cell_type": "code",
   "execution_count": null,
   "metadata": {},
   "outputs": [],
   "source": [
    ""
   ]
  }
 ],
 "metadata": {},
 "nbformat": 4,
 "nbformat_minor": 0
}