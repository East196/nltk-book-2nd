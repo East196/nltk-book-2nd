{
 "cells": [
  {
   "cell_type": "markdown",
   "metadata": {},
   "source": [
    "# 6. 学习分类文本\n",
    "\n",
    "## 待回答的问题\n",
    "1. 如何识别特征\n",
    "\n",
    "2. 如何构建语言模型\n",
    "\n",
    "3. 如何从语言模型中学到语言知识\n"
   ]
  },
  {
   "cell_type": "code",
   "execution_count": 1,
   "metadata": {},
   "outputs": [],
   "source": [
    ""
   ]
  },
  {
   "cell_type": "code",
   "execution_count": null,
   "metadata": {},
   "outputs": [],
   "source": [
    ""
   ]
  }
 ],
 "metadata": {},
 "nbformat": 4,
 "nbformat_minor": 0
}